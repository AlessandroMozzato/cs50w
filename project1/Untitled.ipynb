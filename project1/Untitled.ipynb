{
 "cells": [
  {
   "cell_type": "code",
   "execution_count": 1,
   "metadata": {
    "collapsed": true
   },
   "outputs": [],
   "source": [
    "import requests\n",
    "res = requests.get(\"https://www.goodreads.com/book/review_counts.json\", params={\"key\": 'O5rPbEJ5Y2O1jbWJppuBA', \"isbns\": '9780684801544'})\n"
   ]
  },
  {
   "cell_type": "code",
   "execution_count": 7,
   "metadata": {
    "collapsed": false
   },
   "outputs": [
    {
     "data": {
      "text/plain": [
       "{u'average_rating': u'3.83',\n",
       " u'id': 46164,\n",
       " u'isbn': u'068480154X',\n",
       " u'isbn13': u'9780684801544',\n",
       " u'ratings_count': 86976,\n",
       " u'reviews_count': 195814,\n",
       " u'text_reviews_count': 3081,\n",
       " u'work_ratings_count': 96499,\n",
       " u'work_reviews_count': 217614,\n",
       " u'work_text_reviews_count': 4065}"
      ]
     },
     "execution_count": 7,
     "metadata": {},
     "output_type": "execute_result"
    }
   ],
   "source": [
    "res.json()['books'][0]"
   ]
  },
  {
   "cell_type": "code",
   "execution_count": null,
   "metadata": {
    "collapsed": true
   },
   "outputs": [],
   "source": []
  }
 ],
 "metadata": {
  "kernelspec": {
   "display_name": "Python 2",
   "language": "python",
   "name": "python2"
  },
  "language_info": {
   "codemirror_mode": {
    "name": "ipython",
    "version": 2
   },
   "file_extension": ".py",
   "mimetype": "text/x-python",
   "name": "python",
   "nbconvert_exporter": "python",
   "pygments_lexer": "ipython2",
   "version": "2.7.12"
  }
 },
 "nbformat": 4,
 "nbformat_minor": 0
}
